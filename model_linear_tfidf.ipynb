{
 "cells": [
  {
   "cell_type": "markdown",
   "metadata": {},
   "source": [
    "# Baseline Model"
   ]
  },
  {
   "cell_type": "markdown",
   "metadata": {},
   "source": [
    "### Data Distribution"
   ]
  },
  {
   "cell_type": "code",
   "execution_count": 52,
   "metadata": {},
   "outputs": [],
   "source": [
    "import numpy as np\n",
    "import pandas as pd\n",
    "import matplotlib.pyplot as plt\n",
    "from pymongo import MongoClient\n",
    "#%matplotlib inline"
   ]
  },
  {
   "cell_type": "code",
   "execution_count": 53,
   "metadata": {},
   "outputs": [
    {
     "data": {
      "image/png": "[encoded data removed]",
      "text/plain": [
       "<matplotlib.figure.Figure at 0x2520e1f98d0>"
      ]
     },
     "metadata": {},
     "output_type": "display_data"
    }
   ],
   "source": [
    "import json\n",
    "import sys\n",
    "\n",
    "news_store = list()\n",
    "with open('./news_baseline.json','r',encoding=\"utf8\") as f :\n",
    "    ls = f.readlines()\n",
    "    for l in ls:\n",
    "        news = json.loads(l)\n",
    "        #combine sci with tech \n",
    "        if(news['category']==\"science\"):\n",
    "            news['category']=\"technology\"\n",
    "        # combine title and description\n",
    "        # to-dos\n",
    "        news_store.append(news)\n",
    "\n",
    "news_store = pd.DataFrame(news_store)\n",
    "news_store.drop('_id', axis=1, inplace=True)\n",
    " \n",
    "ax =  news_store['category'].value_counts().plot(kind='bar')\n",
    "for p in ax.patches:\n",
    "    height = p.get_height()\n",
    "    ax.text(p.get_x()+p.get_width()/2,\n",
    "            height + 4,\n",
    "            '{:1.0f}'.format(height),\n",
    "            ha=\"center\") \n",
    "plt.title('Data Distribution')\n",
    "plt.show()"
   ]
  },
  {
   "cell_type": "markdown",
   "metadata": {},
   "source": [
    "### Tf-Idf + Logistic Regression"
   ]
  },
  {
   "cell_type": "code",
   "execution_count": 114,
   "metadata": {},
   "outputs": [],
   "source": [
    "# prepare training and testing data\n",
    "data = news_store.sample(frac=1.0)\n",
    "data_test = data[:700]\n",
    "data_train = data[700:]\n",
    "X_test_raw = data_test['description']\n",
    "Y_test = data_test['category']\n",
    "X_train_raw = data_train['description']\n",
    "Y_train = data_train['category']"
   ]
  },
  {
   "cell_type": "code",
   "execution_count": 158,
   "metadata": {},
   "outputs": [
    {
     "name": "stdout",
     "output_type": "stream",
     "text": [
      "score 0.784285714286\n",
      "(0.79472956419688279, 0.77806609132378179, 0.78482797923389125, None)\n"
     ]
    }
   ],
   "source": [
    "import sklearn\n",
    "from sklearn.feature_extraction.text import TfidfVectorizer\n",
    "from sklearn.linear_model import LogisticRegression\n",
    "from sklearn.naive_bayes import MultinomialNB\n",
    "from sklearn.svm import LinearSVC\n",
    "from sklearn.svm import SVC\n",
    "from sklearn.svm import NuSVC\n",
    "from sklearn.metrics import precision_recall_fscore_support\n",
    "from sklearn.metrics import precision_recall_fscore_support\n",
    "\n",
    "vectorizer = TfidfVectorizer(stop_words='english', analyzer='word', ngram_range=(1,2))\n",
    "#clf = LogisticRegression(max_iter=400)\n",
    "#clf = SVC()\n",
    "#clf = LinearSVC()\n",
    "#clf = NuSVC(kernel='linear')\n",
    "clf = MultinomialNB(fit_prior=False)\n",
    "\n",
    "X_train = vectorizer.fit_transform(X_train_raw)\n",
    "X_test = vectorizer.transform(X_test_raw)\n",
    "\n",
    "clf.fit(X_train,Y_train)\n",
    "Y_pred = clf.predict(X_test)\n",
    "\n",
    "print('score',clf.score(X_test,Y_test))\n",
    "print(precision_recall_fscore_support(Y_test, Y_pred, average='macro'))"
   ]
  },
  {
   "cell_type": "code",
   "execution_count": 116,
   "metadata": {},
   "outputs": [
    {
     "data": {
      "text/plain": [
       "0.7628571428571429"
      ]
     },
     "execution_count": 116,
     "metadata": {},
     "output_type": "execute_result"
    }
   ],
   "source": []
  }
 ],
 "metadata": {
  "kernelspec": {
   "display_name": "Python 3",
   "language": "python",
   "name": "python3"
  },
  "language_info": {
   "codemirror_mode": {
    "name": "ipython",
    "version": 3
   },
   "file_extension": ".py",
   "mimetype": "text/x-python",
   "name": "python",
   "nbconvert_exporter": "python",
   "pygments_lexer": "ipython3",
   "version": "3.5.4"
  }
 },
 "nbformat": 4,
 "nbformat_minor": 2
}

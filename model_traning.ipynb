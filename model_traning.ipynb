{
 "cells": [
  {
   "cell_type": "markdown",
   "metadata": {},
   "source": [
    "# Baseline Model"
   ]
  },
  {
   "cell_type": "code",
   "execution_count": 44,
   "metadata": {},
   "outputs": [],
   "source": [
    "import numpy as np\n",
    "import pandas as pd\n",
    "import matplotlib.pyplot as plt\n",
    "from pymongo import MongoClient\n",
    "#%matplotlib inline\n",
    " "
   ]
  },
  {
   "cell_type": "code",
   "execution_count": 47,
   "metadata": {},
   "outputs": [
    {
     "data": {
      "image/png": "[encoded data removed]",
      "text/plain": [
       "<matplotlib.figure.Figure at 0x2520e19f9e8>"
      ]
     },
     "metadata": {},
     "output_type": "display_data"
    }
   ],
   "source": [
    "import json\n",
    "import sys\n",
    "\n",
    "news_store = list()\n",
    "with open('./news_baseline.json','r',encoding=\"utf8\") as f :\n",
    "    ls = f.readlines()\n",
    "    for l in ls:\n",
    "        news = json.loads(l)\n",
    "        if(news['category']==\"science\"):\n",
    "            news['category']=\"technology\"\n",
    "        news_store.append(news)\n",
    "\n",
    "news_store = pd.DataFrame(news_store)\n",
    "news_store.drop('_id', axis=1, inplace=True)\n",
    " \n",
    "ax =  news_store['category'].value_counts().plot(kind='bar')\n",
    "for p in ax.patches:\n",
    "    height = p.get_height()\n",
    "    ax.text(p.get_x()+p.get_width()/2,\n",
    "            height + 4,\n",
    "            '{:1.0f}'.format(height),\n",
    "            ha=\"center\") \n",
    "plt.title('ewf')\n",
    "plt.show()"
   ]
  },
  {
   "cell_type": "markdown",
   "metadata": {},
   "source": [
    "### Data Distribution"
   ]
  },
  {
   "cell_type": "code",
   "execution_count": 89,
   "metadata": {},
   "outputs": [
    {
     "data": {
      "text/plain": [
       "40    https://www.cnn.com/2018/05/01/politics/trump-...\n",
       "41    https://www.bloomberg.com/news/articles/2018-0...\n",
       "42    https://www.politico.com/story/2018/05/01/ivan...\n",
       "43    https://www.washingtonpost.com/national/religi...\n",
       "44    http://money.cnn.com/2018/05/01/technology/fac...\n",
       "Name: url, dtype: object"
      ]
     },
     "execution_count": 89,
     "metadata": {},
     "output_type": "execute_result"
    }
   ],
   "source": [
    "a = news_store[news_store['category'] == 'general'].head()['url']\n",
    "a"
   ]
  },
  {
   "cell_type": "code",
   "execution_count": 93,
   "metadata": {},
   "outputs": [
    {
     "data": {
      "text/plain": [
       "'https://www.washingtonpost.com/national/religion/michigan-catholic-school-to-use-modesty-ponchos-at-prom/2018/05/01/1b65af0a-4d61-11e8-85c1-9326c4511033_story.html'"
      ]
     },
     "execution_count": 93,
     "metadata": {},
     "output_type": "execute_result"
    }
   ],
   "source": [
    "a.iloc[3 ]"
   ]
  },
  {
   "cell_type": "code",
   "execution_count": null,
   "metadata": {
    "collapsed": true
   },
   "outputs": [],
   "source": []
  }
 ],
 "metadata": {
  "kernelspec": {
   "display_name": "Python 3",
   "language": "python",
   "name": "python3"
  },
  "language_info": {
   "codemirror_mode": {
    "name": "ipython",
    "version": 3
   },
   "file_extension": ".py",
   "mimetype": "text/x-python",
   "name": "python",
   "nbconvert_exporter": "python",
   "pygments_lexer": "ipython3",
   "version": "3.5.4"
  }
 },
 "nbformat": 4,
 "nbformat_minor": 2
}
